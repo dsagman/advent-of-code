{
 "cells": [
  {
   "cell_type": "code",
   "execution_count": 1,
   "metadata": {},
   "outputs": [],
   "source": [
    "import re\n",
    "from itertools import chain\n",
    "with open('./day.dat', 'r') as f:\n",
    "    lines = f.readlines()"
   ]
  },
  {
   "cell_type": "markdown",
   "metadata": {},
   "source": [
    "Part 1"
   ]
  },
  {
   "cell_type": "code",
   "execution_count": 2,
   "metadata": {},
   "outputs": [
    {
     "data": {
      "text/plain": [
       "54390"
      ]
     },
     "execution_count": 2,
     "metadata": {},
     "output_type": "execute_result"
    }
   ],
   "source": [
    "# solve with for loop\n",
    "result = 0\n",
    "for l in lines:\n",
    "    digits = list(chain.from_iterable(re.findall(r'\\d+', l)))\n",
    "    codes = int(digits[0]+digits[-1])\n",
    "    result += codes\n",
    "result\n",
    "# answer is 54390"
   ]
  },
  {
   "cell_type": "code",
   "execution_count": 3,
   "metadata": {},
   "outputs": [
    {
     "data": {
      "text/plain": [
       "54390"
      ]
     },
     "execution_count": 3,
     "metadata": {},
     "output_type": "execute_result"
    }
   ],
   "source": [
    "# solve with list comprehension\n",
    "digits = [list(chain.from_iterable(re.findall(r'\\d+', l))) for l in lines]\n",
    "result = sum([int(d[0]+d[-1]) for d in digits])\n",
    "result"
   ]
  },
  {
   "cell_type": "code",
   "execution_count": 4,
   "metadata": {},
   "outputs": [
    {
     "data": {
      "text/plain": [
       "54390"
      ]
     },
     "execution_count": 4,
     "metadata": {},
     "output_type": "execute_result"
    }
   ],
   "source": [
    "# solve with list comprehension again, but just one line\n",
    "result = sum([int(d[0]+d[-1]) for d in [[d for d in l if d.isdigit()] for l in lines]])\n",
    "result"
   ]
  },
  {
   "cell_type": "markdown",
   "metadata": {},
   "source": [
    "Part 2"
   ]
  },
  {
   "cell_type": "code",
   "execution_count": 5,
   "metadata": {},
   "outputs": [],
   "source": [
    "# file = \"test.dat\"\n",
    "file = \"day.dat\"\n",
    "with open(file, 'r') as f:\n",
    "    lines = f.readlines()"
   ]
  },
  {
   "cell_type": "code",
   "execution_count": 6,
   "metadata": {},
   "outputs": [],
   "source": [
    "word_to_digit = {'one': '1', 'two': '2', 'three': '3', 'four': '4', \n",
    "                 'five': '5', 'six': '6', 'seven': '7', 'eight': '8', \n",
    "                 'nine': '9'}\n",
    "decode_lines = ['']*len(lines)\n",
    "for i,l in enumerate(lines):\n",
    "    j = 0\n",
    "    while j < len(l):\n",
    "        if l[j].isdigit():\n",
    "            decode_lines[i] += l[j] \n",
    "        for k, v in word_to_digit.items():\n",
    "            if l[j:].startswith(k):\n",
    "                decode_lines[i] += v\n",
    "                j += len(k)-2\n",
    "                break\n",
    "        j += 1\n",
    "        \n",
    "    # print(l, decode_lines[i])"
   ]
  },
  {
   "cell_type": "code",
   "execution_count": 7,
   "metadata": {},
   "outputs": [
    {
     "data": {
      "text/plain": [
       "['9', '191779', '12499', '788', '172764']"
      ]
     },
     "execution_count": 7,
     "metadata": {},
     "output_type": "execute_result"
    }
   ],
   "source": [
    "# In test data example, the calibration values are \n",
    "# 29, 83, 13, 24, 42, 14, and 76.\n",
    "# Adding these together produces 281.\n",
    "decode_lines[:5]"
   ]
  },
  {
   "cell_type": "code",
   "execution_count": 8,
   "metadata": {},
   "outputs": [
    {
     "data": {
      "text/plain": [
       "54277"
      ]
     },
     "execution_count": 8,
     "metadata": {},
     "output_type": "execute_result"
    }
   ],
   "source": [
    "result = sum([int(d[0]+d[-1]) for d in [[d for d in l if d.isdigit()] for l in decode_lines]])\n",
    "result\n",
    "# 54347 is too high\n",
    "# 54305 is too high\n",
    "# 54277 is correct"
   ]
  }
 ],
 "metadata": {
  "kernelspec": {
   "display_name": ".venv",
   "language": "python",
   "name": "python3"
  },
  "language_info": {
   "codemirror_mode": {
    "name": "ipython",
    "version": 3
   },
   "file_extension": ".py",
   "mimetype": "text/x-python",
   "name": "python",
   "nbconvert_exporter": "python",
   "pygments_lexer": "ipython3",
   "version": "3.11.6"
  }
 },
 "nbformat": 4,
 "nbformat_minor": 2
}
