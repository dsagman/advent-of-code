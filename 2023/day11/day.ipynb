{
 "cells": [
  {
   "cell_type": "code",
   "execution_count": 76,
   "metadata": {},
   "outputs": [],
   "source": [
    "import networkx as nx\n",
    "import matplotlib.pyplot as plt\n",
    "import numpy as np\n",
    "from scipy.spatial.distance import cityblock, pdist\n",
    "import itertools"
   ]
  },
  {
   "cell_type": "code",
   "execution_count": 77,
   "metadata": {},
   "outputs": [
    {
     "data": {
      "text/plain": [
       "9214785"
      ]
     },
     "execution_count": 77,
     "metadata": {},
     "output_type": "execute_result"
    }
   ],
   "source": [
    "# file = \"test.dat\"\n",
    "file = \"day.dat\"\n",
    "lines = open(file,'r').read().split('\\n')\n",
    "# np row major\n",
    "raw_sky = np.array([list(line) for line in lines])\n",
    "sky = np.insert(raw_sky, np.where(np.all(raw_sky == '.', axis=1))[0], np.full((1,raw_sky.shape[1]),'.'), axis=0)\n",
    "sky = np.insert(sky, np.where(np.all(sky == '.', axis=0))[0], np.full((sky.shape[0],1),'.'), axis=1)\n",
    "height, width = sky.shape[0], sky.shape[1]\n",
    "# find # in sky\n",
    "galaxies = np.argwhere(sky == '#') \n",
    "distances = pdist(galaxies, metric='cityblock')\n",
    "int(np.sum(distances))\n",
    "# answer is 9214785"
   ]
  },
  {
   "cell_type": "code",
   "execution_count": 78,
   "metadata": {},
   "outputs": [],
   "source": [
    "# print(\"0123456789012\")\n",
    "# for row in range(sky.shape[0]):\n",
    "#     for col in range(sky.shape[1]):\n",
    "#         print(sky[row,col],end='')\n",
    "#     print()\n",
    "\n",
    "# print()\n",
    "# print(\"0123456789012\")\n",
    "# print(\"....#........\" == (''.join(sky[0,:].tolist())))\n",
    "# print(\".........#...\" == (''.join(sky[1,:].tolist())))\n",
    "# print(\"#............\" == (''.join(sky[2,:].tolist())))\n",
    "# print(\".............\" == (''.join(sky[3,:].tolist())))\n",
    "# print(\".............\" == (''.join(sky[4,:].tolist())))\n",
    "# print(\"........#....\" == (''.join(sky[5,:].tolist())))\n",
    "# print(\".#...........\" == (''.join(sky[6,:].tolist())))\n",
    "# print(\"............#\" == (''.join(sky[7,:].tolist())))\n",
    "# print(\".............\" == (''.join(sky[8,:].tolist())))\n",
    "# print(\".............\" == (''.join(sky[9,:].tolist())))\n",
    "# print(\".........#...\" == (''.join(sky[10,:].tolist())))\n",
    "# print(\"#....#.......\" == (''.join(sky[11,:].tolist())))\n"
   ]
  },
  {
   "cell_type": "code",
   "execution_count": 80,
   "metadata": {},
   "outputs": [],
   "source": [
    "G = nx.Graph()\n",
    "galaxy_nodes = tuple(tuple(x) for x in galaxies.tolist())\n",
    "for node_coords in galaxy_nodes:\n",
    "    u, v = node_coords\n",
    "    x, y = v, height-u\n",
    "    G.add_node(node_coords, pos=(x, y))\n",
    "\n",
    "# add edges with weight of manhattan distance\n",
    "for i in range(len(galaxies)):\n",
    "    for j in range(i+1,len(galaxies)):\n",
    "        G.add_edge(galaxy_nodes[i], galaxy_nodes[j], weight=distances[i+j])\n"
   ]
  },
  {
   "cell_type": "code",
   "execution_count": 82,
   "metadata": {},
   "outputs": [
    {
     "data": {
      "image/png": "[encoded data removed]",
      "text/plain": [
       "<Figure size 640x480 with 1 Axes>"
      ]
     },
     "metadata": {},
     "output_type": "display_data"
    },
    {
     "data": {
      "text/plain": [
       "<Figure size 29400x30200 with 0 Axes>"
      ]
     },
     "metadata": {},
     "output_type": "display_data"
    }
   ],
   "source": [
    "# draw graph with labels on weighted edges\n",
    "pos = nx.get_node_attributes(G, 'pos')\n",
    "labels = nx.get_edge_attributes(G,'weight')\n",
    "nx.draw_networkx_edge_labels(G, pos, edge_labels=labels)\n",
    "\n",
    "nx.draw(G, pos, node_color='blue', node_size=1, with_labels=False)\n",
    "figsize = (sky.shape[1], sky.shape[0])\n",
    "plt.figure(figsize=figsize)\n",
    "plt.show()"
   ]
  }
 ],
 "metadata": {
  "kernelspec": {
   "display_name": ".venv",
   "language": "python",
   "name": "python3"
  },
  "language_info": {
   "codemirror_mode": {
    "name": "ipython",
    "version": 3
   },
   "file_extension": ".py",
   "mimetype": "text/x-python",
   "name": "python",
   "nbconvert_exporter": "python",
   "pygments_lexer": "ipython3",
   "version": "3.11.6"
  }
 },
 "nbformat": 4,
 "nbformat_minor": 2
}
