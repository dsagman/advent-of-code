{
 "cells": [
  {
   "cell_type": "code",
   "execution_count": 43,
   "metadata": {},
   "outputs": [],
   "source": [
    "from functools import reduce\n"
   ]
  },
  {
   "cell_type": "code",
   "execution_count": 50,
   "metadata": {},
   "outputs": [
    {
     "data": {
      "text/plain": [
       "1887980197"
      ]
     },
     "execution_count": 50,
     "metadata": {},
     "output_type": "execute_result"
    }
   ],
   "source": [
    "# file = \"test.dat\"\n",
    "file = \"day.dat\"\n",
    "lines = open(file,'r').read().split('\\n')\n",
    "data = [list(map(int,l.split(' '))) for l in lines]\n",
    "\n",
    "def get_seqs(seq):\n",
    "    seqs = []\n",
    "    diff = [999]\n",
    "    while sum(diff) != 0:\n",
    "        diff = [seq[i+1]-seq[i] for i in range(len(seq)-1)]\n",
    "        seqs.append(diff)\n",
    "        seq = diff[:]\n",
    "    return seqs\n",
    "\n",
    "def add_seqs(seqs):\n",
    "    return sum([s[-1] for s in seqs])\n",
    "\n",
    "\n",
    "next_s = [add_seqs(get_seqs(d)[::-1] + [d]) for d in data]\n",
    "# test data expected values 18, 28, 68, sum to 114\n",
    "# answer is 1887980197\n",
    "\n",
    "sum(next_s)"
   ]
  }
 ],
 "metadata": {
  "kernelspec": {
   "display_name": ".venv",
   "language": "python",
   "name": "python3"
  },
  "language_info": {
   "codemirror_mode": {
    "name": "ipython",
    "version": 3
   },
   "file_extension": ".py",
   "mimetype": "text/x-python",
   "name": "python",
   "nbconvert_exporter": "python",
   "pygments_lexer": "ipython3",
   "version": "3.11.6"
  }
 },
 "nbformat": 4,
 "nbformat_minor": 2
}
