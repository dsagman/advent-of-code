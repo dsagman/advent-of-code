{
 "cells": [
  {
   "cell_type": "markdown",
   "metadata": {},
   "source": [
    "Part 1"
   ]
  },
  {
   "cell_type": "code",
   "execution_count": 76,
   "metadata": {},
   "outputs": [],
   "source": [
    "import re"
   ]
  },
  {
   "cell_type": "code",
   "execution_count": 77,
   "metadata": {},
   "outputs": [],
   "source": [
    "def extract_int(xs):\n",
    "    return [int(x) for x in xs.split(' ') if x != '']"
   ]
  },
  {
   "cell_type": "code",
   "execution_count": 78,
   "metadata": {},
   "outputs": [
    {
     "data": {
      "text/plain": [
       "25183"
      ]
     },
     "execution_count": 78,
     "metadata": {},
     "output_type": "execute_result"
    }
   ],
   "source": [
    "# file = \"test.dat\"\n",
    "file = \"day.dat\"\n",
    "lines = open(file,'r').read().split('\\n')\n",
    "parsed = [(extract_int(match.group(1)), extract_int(match.group(2))) \n",
    "          for l in lines if (match := re.match(r'^.+: (.+) \\| (.+)', l))]\n",
    "my_wins = [[x for x in win if x in nums] for win, nums in parsed]\n",
    "# answer is 25183\n",
    "sum([2**(len(x)-1) for x in my_wins if x != []])\n"
   ]
  },
  {
   "cell_type": "markdown",
   "metadata": {},
   "source": [
    "Part 2"
   ]
  },
  {
   "cell_type": "code",
   "execution_count": 128,
   "metadata": {},
   "outputs": [],
   "source": [
    "# file = \"test.dat\"\n",
    "file = \"day.dat\"\n",
    "lines = open(file,'r').read().split('\\n')\n",
    "parsed = [(extract_int(match.group(1)), extract_int(match.group(2))) \n",
    "          for l in lines if (match := re.match(r'^.+: (.+) \\| (.+)', l))]\n",
    "my_wins = [len([x for x in win if x in nums]) for win, nums in parsed]\n",
    "this_round = [1]*len(my_wins)\n",
    "for i, m in enumerate(my_wins):\n",
    "    this_round[i+1:i+m+1] = [x+this_round[i] for x in this_round[i+1:i+m+1]]"
   ]
  },
  {
   "cell_type": "code",
   "execution_count": 129,
   "metadata": {},
   "outputs": [
    {
     "data": {
      "text/plain": [
       "1982"
      ]
     },
     "execution_count": 129,
     "metadata": {},
     "output_type": "execute_result"
    }
   ],
   "source": [
    "# answer is 5667240\n",
    "sum(this_round)"
   ]
  },
  {
   "cell_type": "markdown",
   "metadata": {},
   "source": [
    "1 instance of card 1, 2 instances of card 2, 4 instances of card 3, 8 instances of card 4, 14 instances of card 5, and 1 instance of card 6\n",
    "\n",
    "test results should be [1,2,4,8,14,1]\n",
    "sum to 30"
   ]
  }
 ],
 "metadata": {
  "kernelspec": {
   "display_name": "conda_env",
   "language": "python",
   "name": "python3"
  },
  "language_info": {
   "codemirror_mode": {
    "name": "ipython",
    "version": 3
   },
   "file_extension": ".py",
   "mimetype": "text/x-python",
   "name": "python",
   "nbconvert_exporter": "python",
   "pygments_lexer": "ipython3",
   "version": "3.11.6"
  }
 },
 "nbformat": 4,
 "nbformat_minor": 2
}
