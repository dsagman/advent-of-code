{
 "cells": [
  {
   "cell_type": "markdown",
   "metadata": {},
   "source": [
    "Part 1"
   ]
  },
  {
   "cell_type": "code",
   "execution_count": 371,
   "metadata": {},
   "outputs": [],
   "source": [
    "import numpy as np\n",
    "from collections import defaultdict\n",
    "from itertools import chain"
   ]
  },
  {
   "cell_type": "code",
   "execution_count": 332,
   "metadata": {},
   "outputs": [],
   "source": [
    "def neighbors(arr,row,col):\n",
    "    left = max(0,col-1)\n",
    "    right = min(arr.shape[0]-1,col+2)\n",
    "    up = max(0,row-1)\n",
    "    down = min(arr.shape[1]-1,row+2)\n",
    "    return [arr[j,i] for i in range(left,right) for j in range(up,down) if not (i == col and j == row)] \n",
    "\n",
    "def get_numbers(arr):\n",
    "    numbers = defaultdict(list)\n",
    "    for row in range(arr.shape[0]):\n",
    "        col = 0\n",
    "        while col < arr.shape[1]:\n",
    "            num, loc = '', []\n",
    "            while col < arr.shape[1] and arr[row, col].isdigit():\n",
    "                num += arr[row, col]\n",
    "                loc.append([row, col])\n",
    "                col += 1\n",
    "            if num:\n",
    "                numbers[num + f':{row},{col}'] = loc\n",
    "            col += 1\n",
    "    return numbers\n",
    "\n",
    "def is_symbol(c):\n",
    "    return not(c.isdigit() or c == '.')   \n",
    "\n",
    "def get_valid(numbers,arr, func):  \n",
    "    valid = []\n",
    "    for num,loc in numbers.items():\n",
    "        if any([[True for c in (neighbors(arr,row,col)) if func(c)] for (row,col) in loc]):\n",
    "            valid.append((int(num.split(':')[0]),loc))\n",
    "    return valid\n"
   ]
  },
  {
   "cell_type": "code",
   "execution_count": 425,
   "metadata": {},
   "outputs": [
    {
     "data": {
      "text/plain": [
       "543867"
      ]
     },
     "execution_count": 425,
     "metadata": {},
     "output_type": "execute_result"
    }
   ],
   "source": [
    "# file = \"test.dat\"\n",
    "file = \"day.dat\"\n",
    "lines = open(file,'r').read().split('\\n')\n",
    "# np row major\n",
    "code = np.array([list(line) for line in lines])\n",
    "valid = get_valid(get_numbers(code), code, is_symbol)\n",
    "np.sum([v[0] for v in valid])"
   ]
  },
  {
   "cell_type": "code",
   "execution_count": 334,
   "metadata": {},
   "outputs": [],
   "source": [
    "# test answer is 4361\n",
    "# 320526 is too low\n",
    "# 322148 is too low\n",
    "# 540677 is too low\n",
    "# 543867 is correct!"
   ]
  },
  {
   "cell_type": "markdown",
   "metadata": {},
   "source": [
    "Part 2"
   ]
  },
  {
   "cell_type": "code",
   "execution_count": 418,
   "metadata": {},
   "outputs": [],
   "source": [
    "def is_gear(c):\n",
    "    return c == '*'\n",
    "\n",
    "def find_gear(numbers, arr):\n",
    "    gears = defaultdict(list)\n",
    "    for n, loc in numbers.items():\n",
    "        gear_set = list(set(chain.from_iterable([[(j,i) \n",
    "                    for i in range(max(0,col-1),min(arr.shape[0]-1,col+2)) \n",
    "                    for j in range(max(0,row-1),min(arr.shape[1]-1,row+2)) \n",
    "                    if not (i == col and j == row) and is_gear(arr[j,i])] for row,col in loc])))\n",
    "        for g in gear_set:\n",
    "            gears[g].append(n)\n",
    "    return gears\n",
    "\n",
    "def extract_num(s):\n",
    "    return int(s.split(':')[0])"
   ]
  },
  {
   "cell_type": "code",
   "execution_count": 423,
   "metadata": {},
   "outputs": [
    {
     "data": {
      "text/plain": [
       "79613331"
      ]
     },
     "execution_count": 423,
     "metadata": {},
     "output_type": "execute_result"
    }
   ],
   "source": [
    "# file = \"test.dat\"\n",
    "file = \"day.dat\"\n",
    "lines = open(file,'r').read().split('\\n')\n",
    "\n",
    "code = np.array([list(line) for line in lines])\n",
    "gears = [g[1] for g in find_gear(get_numbers(code), code).items() if len(g[1]) == 2]\n",
    "np.sum(list(map(np.prod,[list(map(extract_num, g)) for g in gears])))\n"
   ]
  },
  {
   "cell_type": "code",
   "execution_count": null,
   "metadata": {},
   "outputs": [],
   "source": [
    "# test answer is 467835\n",
    "# answer is 79613331"
   ]
  }
 ],
 "metadata": {
  "kernelspec": {
   "display_name": ".venv",
   "language": "python",
   "name": "python3"
  },
  "language_info": {
   "codemirror_mode": {
    "name": "ipython",
    "version": 3
   },
   "file_extension": ".py",
   "mimetype": "text/x-python",
   "name": "python",
   "nbconvert_exporter": "python",
   "pygments_lexer": "ipython3",
   "version": "3.11.6"
  }
 },
 "nbformat": 4,
 "nbformat_minor": 2
}
