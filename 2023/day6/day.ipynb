{
 "cells": [
  {
   "cell_type": "markdown",
   "metadata": {},
   "source": [
    "test data\n",
    "```\n",
    "Time:      7  15   30\n",
    "Distance:  9  40  200\n",
    "```"
   ]
  },
  {
   "cell_type": "markdown",
   "metadata": {},
   "source": [
    "real data\n",
    "```\n",
    "Time:        58     81     96     76\n",
    "Distance:   434   1041   2219   1218 \n",
    "```"
   ]
  },
  {
   "cell_type": "code",
   "execution_count": 21,
   "metadata": {},
   "outputs": [],
   "source": [
    "from sympy import symbols, Eq, solve\n",
    "import numpy as np"
   ]
  },
  {
   "cell_type": "code",
   "execution_count": 29,
   "metadata": {},
   "outputs": [
    {
     "data": {
      "text/plain": [
       "1159152"
      ]
     },
     "execution_count": 29,
     "metadata": {},
     "output_type": "execute_result"
    }
   ],
   "source": [
    "\n",
    "d, b, t = symbols('d b t', integer=True)\n",
    "eq = Eq(d,b*(t-b))\n",
    "\n",
    "# constraints is a list of t and d value tuples\n",
    "# constraints = ((7,9), (15,40), (30,200))\n",
    "constraints = ((58,434),(81,1041),(96,2219),(76,1218))\n",
    "num_solutions = []\n",
    "for t_val, d_val in constraints:\n",
    "    solutions = []\n",
    "    for b_value in range(1, t_val):\n",
    "        d_solution = solve(eq.subs({b: b_value, t: t_val}), d)\n",
    "        solutions.append((b_value, d_solution))\n",
    "    num_solutions.append(len([s for s in solutions if s[1][0] > d_val]))\n",
    "\n",
    "np.prod(num_solutions)"
   ]
  }
 ],
 "metadata": {
  "kernelspec": {
   "display_name": "conda_env",
   "language": "python",
   "name": "python3"
  },
  "language_info": {
   "codemirror_mode": {
    "name": "ipython",
    "version": 3
   },
   "file_extension": ".py",
   "mimetype": "text/x-python",
   "name": "python",
   "nbconvert_exporter": "python",
   "pygments_lexer": "ipython3",
   "version": "3.11.6"
  }
 },
 "nbformat": 4,
 "nbformat_minor": 2
}
