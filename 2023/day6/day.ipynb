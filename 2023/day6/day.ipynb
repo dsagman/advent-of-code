{
 "cells": [
  {
   "cell_type": "markdown",
   "metadata": {},
   "source": [
    "test data\n",
    "```\n",
    "Time:      7  15   30\n",
    "Distance:  9  40  200\n",
    "```"
   ]
  },
  {
   "cell_type": "markdown",
   "metadata": {},
   "source": [
    "real data\n",
    "```\n",
    "Time:        58     81     96     76\n",
    "Distance:   434   1041   2219   1218 \n",
    "```"
   ]
  },
  {
   "cell_type": "code",
   "execution_count": 9,
   "metadata": {},
   "outputs": [],
   "source": [
    "from sympy import symbols, Eq, solve\n",
    "import numpy as np\n",
    "from icecream import ic"
   ]
  },
  {
   "cell_type": "code",
   "execution_count": 49,
   "metadata": {},
   "outputs": [
    {
     "name": "stderr",
     "output_type": "stream",
     "text": [
      "ic| num_solutions: [41, 48, 19, 31]\n"
     ]
    },
    {
     "data": {
      "text/plain": [
       "1159152"
      ]
     },
     "execution_count": 49,
     "metadata": {},
     "output_type": "execute_result"
    }
   ],
   "source": [
    "\n",
    "d, b, t = symbols('d b t', integer=True)\n",
    "eq = Eq(d,b*(t-b))\n",
    "\n",
    "# constraints = ((7,9), (15,40), (30,200))\n",
    "constraints = ((58,434),(81,1041),(96,2219),(76,1218))\n",
    "num_solutions = []\n",
    "for t_val, d_val in constraints:\n",
    "    solutions = [(b_val, solve(eq.subs({b: b_val, t: t_val}), d)) for b_val in range(1, t_val)]\n",
    "    num_solutions.append(len([s for s in solutions if s[1][0] > d_val]))\n",
    "\n",
    "# answer is 1159152\n",
    "# test answer is 288\n",
    "ic(num_solutions)\n",
    "np.prod(num_solutions)"
   ]
  },
  {
   "cell_type": "markdown",
   "metadata": {},
   "source": [
    "Part 2"
   ]
  },
  {
   "cell_type": "code",
   "execution_count": 13,
   "metadata": {},
   "outputs": [
    {
     "data": {
      "text/plain": [
       "[t/2 - sqrt(-4*d + t**2)/2, t/2 + sqrt(-4*d + t**2)/2]"
      ]
     },
     "execution_count": 13,
     "metadata": {},
     "output_type": "execute_result"
    }
   ],
   "source": [
    "d, b, t = symbols('d b t', integer=True)\n",
    "eq = Eq(d,b*(t-b))\n",
    "solve(eq,b)"
   ]
  },
  {
   "cell_type": "code",
   "execution_count": 55,
   "metadata": {},
   "outputs": [
    {
     "name": "stdout",
     "output_type": "stream",
     "text": [
      "[41513103]\n"
     ]
    },
    {
     "data": {
      "text/plain": [
       "41513103"
      ]
     },
     "execution_count": 55,
     "metadata": {},
     "output_type": "execute_result"
    }
   ],
   "source": [
    "# constraints = ((7,9), (15,40), (30,200))\n",
    "# constraints = ((71530,940200),)\n",
    "# constraints = ((58,434),(81,1041),(96,2219),(76,1218))\n",
    "constraints = ((58819676,434104122191218),)\n",
    "num_solutions = []\n",
    "for t, d in constraints:\n",
    "    b_mid = t/2\n",
    "    t_even = 1 if t % 2 == 0 else 0\n",
    "    b_max = (t + np.sqrt(-4*d + t**2))/2\n",
    "    num_solutions.append(int(b_max-b_mid)*2+t_even)\n",
    "\n",
    "print(num_solutions)\n",
    "# answer is 41513103\n",
    "np.prod(num_solutions)"
   ]
  },
  {
   "cell_type": "code",
   "execution_count": 56,
   "metadata": {},
   "outputs": [
    {
     "data": {
      "text/plain": [
       "41513103"
      ]
     },
     "execution_count": 56,
     "metadata": {},
     "output_type": "execute_result"
    }
   ],
   "source": [
    "#in one line\n",
    "t, d = (58819676,434104122191218)\n",
    "int((t + np.sqrt(-4*d + t**2)-t)/2)*2+(1 if t % 2 == 0 else 0)"
   ]
  }
 ],
 "metadata": {
  "kernelspec": {
   "display_name": "conda_env",
   "language": "python",
   "name": "python3"
  },
  "language_info": {
   "codemirror_mode": {
    "name": "ipython",
    "version": 3
   },
   "file_extension": ".py",
   "mimetype": "text/x-python",
   "name": "python",
   "nbconvert_exporter": "python",
   "pygments_lexer": "ipython3",
   "version": "3.11.6"
  }
 },
 "nbformat": 4,
 "nbformat_minor": 2
}
