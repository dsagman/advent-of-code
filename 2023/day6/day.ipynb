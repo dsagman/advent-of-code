{
 "cells": [
  {
   "cell_type": "markdown",
   "metadata": {},
   "source": [
    "test data\n",
    "```\n",
    "Time:      7  15   30\n",
    "Distance:  9  40  200\n",
    "```"
   ]
  },
  {
   "cell_type": "markdown",
   "metadata": {},
   "source": [
    "real data\n",
    "```\n",
    "Time:        58     81     96     76\n",
    "Distance:   434   1041   2219   1218 \n",
    "```"
   ]
  },
  {
   "cell_type": "code",
   "execution_count": 21,
   "metadata": {},
   "outputs": [],
   "source": [
    "from sympy import symbols, Eq, solve\n",
    "import numpy as np"
   ]
  },
  {
   "cell_type": "code",
   "execution_count": 45,
   "metadata": {},
   "outputs": [
    {
     "name": "stdout",
     "output_type": "stream",
     "text": [
      "[41, 48, 19, 31]\n"
     ]
    },
    {
     "data": {
      "text/plain": [
       "1159152"
      ]
     },
     "execution_count": 45,
     "metadata": {},
     "output_type": "execute_result"
    }
   ],
   "source": [
    "\n",
    "d, b, t = symbols('d b t', integer=True)\n",
    "eq = Eq(d,b*(t-b))\n",
    "\n",
    "# constraints is a list of t and d value tuples\n",
    "# constraints = ((7,9), (15,40), (30,200))\n",
    "constraints = ((58,434),(81,1041),(96,2219),(76,1218))\n",
    "num_solutions = []\n",
    "for t_val, d_val in constraints:\n",
    "    solutions = [(b_val, solve(eq.subs({b: b_val, t: t_val}), d)) for b_val in range(1, t_val)]\n",
    "    num_solutions.append(len([s for s in solutions if s[1][0] > d_val]))\n",
    "\n",
    "print(num_solutions)\n",
    "np.prod(num_solutions)\n",
    "# answer is 1159152\n",
    "# test answer is 288"
   ]
  },
  {
   "cell_type": "markdown",
   "metadata": {},
   "source": [
    "Part 2"
   ]
  },
  {
   "cell_type": "code",
   "execution_count": 60,
   "metadata": {},
   "outputs": [
    {
     "name": "stdout",
     "output_type": "stream",
     "text": [
      "0\n",
      "t 4\n",
      "0\n",
      "t 8\n",
      "1\n",
      "t 15\n",
      "[4, 8, 9]\n"
     ]
    },
    {
     "data": {
      "text/plain": [
       "288"
      ]
     },
     "execution_count": 60,
     "metadata": {},
     "output_type": "execute_result"
    }
   ],
   "source": [
    "d, b, t = symbols('d b t', integer=True)\n",
    "eq = Eq(d,b*(t-b))\n",
    "constraints = ((7,9), (15,40), (30,200))\n",
    "# constraints = ((71530,940200), (15,40), (30,200))\n",
    "# constraints = ((58,434),(81,1041),(96,2219),(76,1218))\n",
    "num_solutions = []\n",
    "for t_val, d_val in constraints:\n",
    "    eq_max = int(np.ceil(t_val/2))\n",
    "    t_even = 1 if t_val % 2 == 0 else 0\n",
    "    print(t_even)\n",
    "    print(t, eq_max)\n",
    "    solutions = [(b_val, solve(eq.subs({b: b_val, t: t_val}), d)) for b_val in range(1, eq_max)]\n",
    "    num_solutions.append(2*len([s for s in solutions if s[1][0] > d_val])+(t_even*1))\n",
    "\n",
    "print(num_solutions)\n",
    "np.prod(num_solutions)"
   ]
  }
 ],
 "metadata": {
  "kernelspec": {
   "display_name": "conda_env",
   "language": "python",
   "name": "python3"
  },
  "language_info": {
   "codemirror_mode": {
    "name": "ipython",
    "version": 3
   },
   "file_extension": ".py",
   "mimetype": "text/x-python",
   "name": "python",
   "nbconvert_exporter": "python",
   "pygments_lexer": "ipython3",
   "version": "3.11.6"
  }
 },
 "nbformat": 4,
 "nbformat_minor": 2
}
