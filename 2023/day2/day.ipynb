{
 "cells": [
  {
   "cell_type": "code",
   "execution_count": 179,
   "metadata": {},
   "outputs": [],
   "source": [
    "import re\n",
    "from collections import defaultdict\n",
    "import numpy as np"
   ]
  },
  {
   "cell_type": "code",
   "execution_count": 136,
   "metadata": {},
   "outputs": [],
   "source": [
    "# file = \"test.dat\"\n",
    "file = \"day.dat\"\n",
    "lines = open(file,'r').read().split('\\n')"
   ]
  },
  {
   "cell_type": "markdown",
   "metadata": {},
   "source": [
    "Part 1"
   ]
  },
  {
   "cell_type": "code",
   "execution_count": 112,
   "metadata": {},
   "outputs": [],
   "source": [
    "# Determine which games would have been possible if the bag had been loaded with only \n",
    "# 12 red cubes, 13 green cubes, and 14 blue cubes. \n",
    "# What is the sum of the IDs of those games?\n",
    "max_color = {'red': 12, 'green': 13, 'blue': 14}"
   ]
  },
  {
   "cell_type": "code",
   "execution_count": 132,
   "metadata": {},
   "outputs": [],
   "source": [
    "# In test.dat In the example above, games 1, 2, and 5 would have been possible if the \n",
    "# bag had been loaded with that configuration. \n",
    "# However, game 3 would have been impossible because at one point the \n",
    "# Elf showed you 20 red cubes at once; similarly, game 4 would also have been \n",
    "# impossible because the Elf showed you 15 blue cubes at once. \n",
    "# If you add up the IDs of the games that would have been possible, you get 8.\n",
    "# Game 1: 3 blue, 4 red; 1 red, 2 green, 6 blue; 2 green\n",
    "# Game 2: 1 blue, 2 green; 3 green, 4 blue, 1 red; 1 green, 1 blue\n",
    "# Game 3: 8 green, 6 blue, 20 red; 5 blue, 4 red, 13 green; 5 green, 1 red\n",
    "# Game 4: 1 green, 3 red, 6 blue; 3 green, 6 red; 3 green, 15 blue, 14 red\n",
    "# Game 5: 6 red, 1 blue, 3 green; 2 blue, 1 red, 2 green"
   ]
  },
  {
   "cell_type": "code",
   "execution_count": 159,
   "metadata": {},
   "outputs": [
    {
     "data": {
      "text/plain": [
       "[(1, [{'red': [1, 3, 5, 4]}, {'blue': [5, 16, 6, 7]}, {'green': [1, 1]}]),\n",
       " (2, [{'blue': [4, 3, 9, 5]}, {'red': [4, 4, 4]}, {'green': [1, 2, 7]}]),\n",
       " (3, [{'blue': [10, 7, 19]}, {'green': [1, 1]}, {'red': [9]}]),\n",
       " (4,\n",
       "  [{'green': [2, 4, 11, 5, 7, 2]},\n",
       "   {'blue': [14, 13, 4, 12, 3]},\n",
       "   {'red': [14, 12, 9, 9, 8]}])]"
      ]
     },
     "execution_count": 159,
     "metadata": {},
     "output_type": "execute_result"
    }
   ],
   "source": [
    "split = [s:=re.split(\"[:;]\", l) for l in lines if s]\n",
    "d = defaultdict(list)\n",
    "for s in split:\n",
    "    game_num = int(s[0].split(' ')[1])\n",
    "    balls = defaultdict(list)\n",
    "    [balls[g.strip().split(' ')[1]].append(int(g.strip().split(' ')[0])) for grabs in s[1:] for g in grabs.split(',')]\n",
    "    d[game_num].extend([{k: v} for k, v in balls.items()])\n",
    "\n",
    "list(d.items())[:4]"
   ]
  },
  {
   "cell_type": "code",
   "execution_count": 160,
   "metadata": {},
   "outputs": [
    {
     "data": {
      "text/plain": [
       "2348"
      ]
     },
     "execution_count": 160,
     "metadata": {},
     "output_type": "execute_result"
    }
   ],
   "source": [
    "# possible = set()\n",
    "# impossible = set()\n",
    "# for game in d:\n",
    "#     possible.add(game)\n",
    "#     for ball in d[game]:\n",
    "#         for k,v in ball.items():\n",
    "#             # print(k,max(v), max_color[k])\n",
    "#             if max(v) > max_color[k]:\n",
    "#                 impossible.add(game)\n",
    "    # print()\n",
    "possible = set(d.keys())\n",
    "impossible = {game for game in d if any(max(v) > max_color[k] for ball in d[game] for k, v in ball.items())}\n",
    "\n",
    "# 168 is too low.\n",
    "# answer is 2348\n",
    "sum(list(possible-impossible))\n"
   ]
  },
  {
   "cell_type": "markdown",
   "metadata": {},
   "source": [
    "Part 2"
   ]
  },
  {
   "cell_type": "code",
   "execution_count": null,
   "metadata": {},
   "outputs": [],
   "source": [
    "# In game 1, the game could have been played with as few as 4 red, 2 green, and 6 blue cubes. \n",
    "# If any color had even one fewer cube, the game would have been impossible.\n",
    "#     Game 2 could have been played with a minimum of 1 red, 3 green, and 4 blue cubes.\n",
    "#     Game 3 must have been played with at least 20 red, 13 green, and 6 blue cubes.\n",
    "#     Game 4 required at least 14 red, 3 green, and 15 blue cubes.\n",
    "#     Game 5 needed no fewer than 6 red, 3 green, and 2 blue cubes in the bag.\n",
    "\n",
    "# The power of a set of cubes is equal to the numbers of red, green, and blue cubes multiplied together. \n",
    "# The power of the minimum set of cubes in game 1 is 48. \n",
    "# In games 2-5 it was 12, 1560, 630, and 36, respectively. Adding up these five powers produces the sum 2286.\n",
    "\n",
    "# For each game, find the minimum set of cubes that must have been present. \n",
    "# What is the sum of the power of these sets?"
   ]
  },
  {
   "cell_type": "code",
   "execution_count": 182,
   "metadata": {},
   "outputs": [],
   "source": [
    "# file = \"test.dat\"\n",
    "file = \"day.dat\"\n",
    "lines = open(file,'r').read().split('\\n')"
   ]
  },
  {
   "cell_type": "code",
   "execution_count": 183,
   "metadata": {},
   "outputs": [
    {
     "data": {
      "text/plain": [
       "[(1, [{'red': [1, 3, 5, 4]}, {'blue': [5, 16, 6, 7]}, {'green': [1, 1]}]),\n",
       " (2, [{'blue': [4, 3, 9, 5]}, {'red': [4, 4, 4]}, {'green': [1, 2, 7]}]),\n",
       " (3, [{'blue': [10, 7, 19]}, {'green': [1, 1]}, {'red': [9]}]),\n",
       " (4,\n",
       "  [{'green': [2, 4, 11, 5, 7, 2]},\n",
       "   {'blue': [14, 13, 4, 12, 3]},\n",
       "   {'red': [14, 12, 9, 9, 8]}])]"
      ]
     },
     "execution_count": 183,
     "metadata": {},
     "output_type": "execute_result"
    }
   ],
   "source": [
    "split = [s:=re.split(\"[:;]\", l) for l in lines if s]\n",
    "d = defaultdict(list)\n",
    "for s in split:\n",
    "    game_num = int(s[0].split(' ')[1])\n",
    "    balls = defaultdict(list)\n",
    "    [balls[g.strip().split(' ')[1]].append(int(g.strip().split(' ')[0])) for grabs in s[1:] for g in grabs.split(',')]\n",
    "    d[game_num].extend([{k: v} for k, v in balls.items()])\n",
    "\n",
    "list(d.items())[:4]"
   ]
  },
  {
   "cell_type": "code",
   "execution_count": 187,
   "metadata": {},
   "outputs": [
    {
     "data": {
      "text/plain": [
       "76008"
      ]
     },
     "execution_count": 187,
     "metadata": {},
     "output_type": "execute_result"
    }
   ],
   "source": [
    "# min_cubes = defaultdict(list)\n",
    "# for game in d:\n",
    "#     for ball in d[game]:\n",
    "#         for k,v in ball.items():\n",
    "#             min_cubes[game].append(max(v)) \n",
    "#     sum_cubes.append(np.prod(min_cubes[game]))\n",
    "\n",
    "sum_cubes = sum([np.prod([max(v) for ball in d[game] for k, v in ball.items()]) for game in d])\n",
    "#answer 76008\n",
    "sum_cubes"
   ]
  }
 ],
 "metadata": {
  "kernelspec": {
   "display_name": ".venv",
   "language": "python",
   "name": "python3"
  },
  "language_info": {
   "codemirror_mode": {
    "name": "ipython",
    "version": 3
   },
   "file_extension": ".py",
   "mimetype": "text/x-python",
   "name": "python",
   "nbconvert_exporter": "python",
   "pygments_lexer": "ipython3",
   "version": "3.11.6"
  }
 },
 "nbformat": 4,
 "nbformat_minor": 2
}
