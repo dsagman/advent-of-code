{
 "cells": [
  {
   "cell_type": "code",
   "execution_count": 2,
   "metadata": {},
   "outputs": [
    {
     "name": "stdout",
     "output_type": "stream",
     "text": [
      "[('part1', 45159), ('part2', 134549294799713)]\n"
     ]
    }
   ],
   "source": [
    "# somebody elses amazing solution!\n",
    "import shapely.geometry as sg\n",
    "import re\n",
    "\n",
    "# file = \"test.dat\"\n",
    "file = \"day.dat\"\n",
    "lines = open(file,'r').read().split('\\n') \n",
    "instructions = [(match.group(1), int(match.group(2)), match.group(3)) \n",
    "          for l in lines if (match := re.match(r'(.) (.*) (.*)', l))]\n",
    "\n",
    "dirs, lagoon, lagoon2, end, end2 = {'R': (1, 0), 'D': (0, -1), 'L': (-1, 0), 'U': (0, 1)}, [], [], (0, 0), (0, 0)\n",
    "for angle, length, color in instructions:\n",
    "    lagoon.append(end := (end[0] + length * dirs[angle][0], end[1] + length * dirs[angle][1]))\n",
    "    x, y = list(dirs.values())[int(color[7])]\n",
    "    lagoon2.append(end2 := (end2[0] + int(color[2:7], 16) * x, end2[1] + int(color[2:7], 16) * y))\n",
    "print([('part'+str(i+1), (lambda p: int(p.area+p.length//2+1))(sg.Polygon(d))) for i, d in enumerate([lagoon, lagoon2])])"
   ]
  }
 ],
 "metadata": {
  "kernelspec": {
   "display_name": ".venv",
   "language": "python",
   "name": "python3"
  },
  "language_info": {
   "codemirror_mode": {
    "name": "ipython",
    "version": 3
   },
   "file_extension": ".py",
   "mimetype": "text/x-python",
   "name": "python",
   "nbconvert_exporter": "python",
   "pygments_lexer": "ipython3",
   "version": "3.11.6"
  }
 },
 "nbformat": 4,
 "nbformat_minor": 2
}
