{
 "cells": [
  {
   "cell_type": "code",
   "execution_count": 2,
   "metadata": {},
   "outputs": [],
   "source": [
    "import re"
   ]
  },
  {
   "cell_type": "code",
   "execution_count": 3,
   "metadata": {},
   "outputs": [
    {
     "name": "stdout",
     "output_type": "stream",
     "text": [
      "664\n"
     ]
    },
    {
     "data": {
      "text/plain": [
       "[('R', 6, '(#6248a0)'),\n",
       " ('U', 2, '(#46d3f3)'),\n",
       " ('R', 3, '(#7fccf2)'),\n",
       " ('U', 6, '(#3e2833)'),\n",
       " ('L', 2, '(#022ef2)')]"
      ]
     },
     "execution_count": 3,
     "metadata": {},
     "output_type": "execute_result"
    }
   ],
   "source": [
    "# file = \"test.dat\"\n",
    "file = \"day.dat\"\n",
    "lines = open(file,'r').read().split('\\n') \n",
    "instructions = [(match.group(1), int(match.group(2)), match.group(3)) \n",
    "          for l in lines if (match := re.match(r'(.) (.*) (.*)', l))]\n",
    "print(len(instructions))\n",
    "instructions[:5]"
   ]
  },
  {
   "cell_type": "code",
   "execution_count": 4,
   "metadata": {},
   "outputs": [],
   "source": [
    "import turtle\n",
    "\n",
    "# Function to move the turtle based on the direction and amount\n",
    "def draw_path(t, direction, amount):\n",
    "    if direction == 'U':\n",
    "        t.setheading(90)  # North\n",
    "    elif direction == 'D':\n",
    "        t.setheading(270)  # South\n",
    "    elif direction == 'L':\n",
    "        t.setheading(180)  # West\n",
    "    else:  # 'R'\n",
    "        t.setheading(0)  # East\n",
    "    t.forward(amount)\n",
    "\n",
    "# Setup Turtle\n",
    "screen = turtle.Screen()\n",
    "screen.title(\"Trench Path\")\n",
    "t = turtle.Turtle()\n",
    "t.speed(0)\n",
    "\n",
    "# Starting position\n",
    "t.goto(0, 0)\n",
    "\n",
    "# Draw the path\n",
    "for direction, amount, color in instructions:\n",
    "    draw_path(t, direction, amount)\n",
    "\n",
    "t.goto(0, 0)\n",
    "\n",
    "# Hide the turtle and finish drawing\n",
    "t.hideturtle()\n",
    "\n"
   ]
  }
 ],
 "metadata": {
  "kernelspec": {
   "display_name": ".venv",
   "language": "python",
   "name": "python3"
  },
  "language_info": {
   "codemirror_mode": {
    "name": "ipython",
    "version": 3
   },
   "file_extension": ".py",
   "mimetype": "text/x-python",
   "name": "python",
   "nbconvert_exporter": "python",
   "pygments_lexer": "ipython3",
   "version": "3.11.6"
  }
 },
 "nbformat": 4,
 "nbformat_minor": 2
}
