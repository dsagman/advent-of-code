{
 "cells": [
  {
   "cell_type": "code",
   "execution_count": 1,
   "metadata": {},
   "outputs": [],
   "source": [
    "def expand(xs):\n",
    "    expanded = []\n",
    "    for i, c in enumerate(xs):\n",
    "        if i%2 == 0:\n",
    "            for j in range(int(c)): expanded.append(i//2)\n",
    "        else:\n",
    "            for j in range(int(c)): expanded.append('.')\n",
    "    return expanded\n",
    "\n",
    "def checksum(xs):\n",
    "    return sum([i*c for i,c in enumerate(xs) if c != '.'])\n"
   ]
  },
  {
   "cell_type": "code",
   "execution_count": 7,
   "metadata": {},
   "outputs": [
    {
     "name": "stdout",
     "output_type": "stream",
     "text": [
      "Part 1 Checksum: 6262891638328\n"
     ]
    }
   ],
   "source": [
    "datafile = 'day.txt'\n",
    "# datafile = 'test'\n",
    "with open(datafile) as f:\n",
    "    data = f.read().strip()\n",
    "mem = expand(data)\n",
    "free_space = [i for i,c in enumerate(mem) if c == '.']\n",
    "iter = 0\n",
    "ptr = 0\n",
    "while True:\n",
    "    iter += 1\n",
    "    if free_space[ptr] > len(mem) - 1: break\n",
    "    lb = mem.pop()\n",
    "    if lb != '.': \n",
    "        mem[free_space[ptr]] = lb\n",
    "        ptr += 1\n",
    "        \n",
    "cs = checksum(mem)\n",
    "print(f'Part 1 Checksum: {cs}')\n",
    "\n",
    "# 6262891638328"
   ]
  },
  {
   "cell_type": "code",
   "execution_count": 9,
   "metadata": {},
   "outputs": [
    {
     "name": "stdout",
     "output_type": "stream",
     "text": [
      "Part 1 Checksum: 6262891638328\n"
     ]
    }
   ],
   "source": [
    "datafile = 'day.txt'\n",
    "# datafile = 'test'\n",
    "with open(datafile) as f:\n",
    "    data = f.read().strip()\n",
    "mem = expand(data)\n",
    "free_space = [i for i,c in enumerate(mem) if c == '.']\n",
    "iter = 0\n",
    "while len(free_space) > 0:\n",
    "    iter += 1\n",
    "    lb = mem.pop()\n",
    "    if lb == '.': \n",
    "        free_space.pop()\n",
    "    else:\n",
    "        mem[free_space.pop(0)] = lb\n",
    "        \n",
    "cs = checksum(mem)\n",
    "print(f'Part 1 Checksum: {cs}')"
   ]
  }
 ],
 "metadata": {
  "kernelspec": {
   "display_name": ".venv",
   "language": "python",
   "name": "python3"
  },
  "language_info": {
   "codemirror_mode": {
    "name": "ipython",
    "version": 3
   },
   "file_extension": ".py",
   "mimetype": "text/x-python",
   "name": "python",
   "nbconvert_exporter": "python",
   "pygments_lexer": "ipython3",
   "version": "3.12.7"
  }
 },
 "nbformat": 4,
 "nbformat_minor": 2
}
