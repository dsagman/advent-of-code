{
 "cells": [
  {
   "cell_type": "code",
   "execution_count": 2,
   "metadata": {},
   "outputs": [],
   "source": [
    "def expand(xs):\n",
    "    expanded = []\n",
    "    for i, c in enumerate(xs):\n",
    "        if i%2 == 0:\n",
    "            for j in range(int(c)): expanded.append(i//2)\n",
    "        else:\n",
    "            for j in range(int(c)): expanded.append('.')\n",
    "    return expanded\n",
    "\n",
    "def checksum(xs):\n",
    "    return sum([i*c for i,c in enumerate(xs) if c != '.'])\n"
   ]
  },
  {
   "cell_type": "code",
   "execution_count": null,
   "metadata": {},
   "outputs": [
    {
     "name": "stdout",
     "output_type": "stream",
     "text": [
      "Part 1 Checksum: 6262891638328\n"
     ]
    }
   ],
   "source": [
    "# version 1 of part 1 using pointer\n",
    "datafile = 'day.txt'\n",
    "# datafile = 'test'\n",
    "with open(datafile) as f:\n",
    "    data = f.read().strip()\n",
    "m_blks = expand(data)\n",
    "f_blks = [i for i,c in enumerate(m_blks) if c == '.']\n",
    "iter = 0\n",
    "ptr = 0 # the pointer is faster than shrinking the list\n",
    "while True:\n",
    "    iter += 1\n",
    "    if f_blks[ptr] > len(m_blks) - 1: break\n",
    "    lb = m_blks.pop()\n",
    "    if lb != '.': \n",
    "        m_blks[f_blks[ptr]] = lb\n",
    "        ptr += 1\n",
    "        \n",
    "cs = checksum(m_blks)\n",
    "print(f'Part 1 Checksum: {cs}')\n",
    "\n",
    "# 6262891638328"
   ]
  },
  {
   "cell_type": "code",
   "execution_count": null,
   "metadata": {},
   "outputs": [
    {
     "name": "stdout",
     "output_type": "stream",
     "text": [
      "Part 1 Checksum: 6262891638328\n"
     ]
    }
   ],
   "source": [
    "# version 2 of part 1 popping off free space\n",
    "datafile = 'day.txt'\n",
    "# datafile = 'test'\n",
    "with open(datafile) as f:\n",
    "    data = f.read().strip()\n",
    "m_blks = expand(data)\n",
    "f_blks = [i for i,c in enumerate(m_blks) if c == '.']\n",
    "iter = 0\n",
    "while len(f_blks) > 0:\n",
    "    iter += 1\n",
    "    lb = m_blks.pop()\n",
    "    if lb == '.': \n",
    "        f_blks.pop() # no pointer, but slower\n",
    "    else:\n",
    "        m_blks[f_blks.pop(0)] = lb\n",
    "        \n",
    "cs = checksum(m_blks)\n",
    "print(f'Part 1 Checksum: {cs}')"
   ]
  },
  {
   "cell_type": "code",
   "execution_count": 81,
   "metadata": {},
   "outputs": [
    {
     "name": "stdout",
     "output_type": "stream",
     "text": [
      "Part 2 Checksum: 6287317016845\n"
     ]
    }
   ],
   "source": [
    "from itertools import accumulate\n",
    "datafile = 'day.txt'\n",
    "# datafile = 'test'\n",
    "\n",
    "def find_hole(b_size, idx, f_blks):\n",
    "    for i, (f_idx, f_size) in enumerate(f_blks):\n",
    "        if f_size >= b_size and f_idx <= idx: \n",
    "            return i\n",
    "    return -1\n",
    "\n",
    "with open(datafile) as f:\n",
    "    data = [int(i) for i in f.read().strip()]\n",
    "\n",
    "mem = expand(data)\n",
    "blk_idxes = [0] + list(accumulate(data))[:-1]\n",
    "m_blks = list(zip(blk_idxes[::2],data[::2]))\n",
    "f_blks = list(zip(blk_idxes[1::2],data[1::2]))\n",
    "\n",
    "for i, (idx, b_size) in enumerate(m_blks[::-1]):\n",
    "    label = len(m_blks) - i -1\n",
    "    hole = find_hole(b_size, idx, f_blks)\n",
    "    if hole != -1:\n",
    "        for j in range(b_size):\n",
    "            mem[f_blks[hole][0]+j] = label\n",
    "            mem[idx+j] = '.'\n",
    "        f_blks[hole] = (f_blks[hole][0]+b_size, f_blks[hole][1]-b_size)\n",
    "    \n",
    "cs = checksum(mem)\n",
    "print(f'Part 2 Checksum: {cs}')"
   ]
  }
 ],
 "metadata": {
  "kernelspec": {
   "display_name": ".venv",
   "language": "python",
   "name": "python3"
  },
  "language_info": {
   "codemirror_mode": {
    "name": "ipython",
    "version": 3
   },
   "file_extension": ".py",
   "mimetype": "text/x-python",
   "name": "python",
   "nbconvert_exporter": "python",
   "pygments_lexer": "ipython3",
   "version": "3.12.7"
  }
 },
 "nbformat": 4,
 "nbformat_minor": 2
}
