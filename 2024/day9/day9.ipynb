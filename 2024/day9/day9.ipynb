{
 "cells": [
  {
   "cell_type": "code",
   "execution_count": 2,
   "metadata": {},
   "outputs": [],
   "source": [
    "def expand(xs):\n",
    "    expanded = []\n",
    "    for i, c in enumerate(xs):\n",
    "        if i%2 == 0:\n",
    "            for j in range(int(c)): expanded.append(i//2)\n",
    "        else:\n",
    "            for j in range(int(c)): expanded.append('.')\n",
    "    return expanded\n",
    "\n",
    "def checksum(xs):\n",
    "    return sum([i*c for i,c in enumerate(xs) if c != '.'])\n"
   ]
  },
  {
   "cell_type": "code",
   "execution_count": null,
   "metadata": {},
   "outputs": [
    {
     "name": "stdout",
     "output_type": "stream",
     "text": [
      "Part 1 Checksum: 6262891638328\n"
     ]
    }
   ],
   "source": [
    "datafile = 'day.txt'\n",
    "# datafile = 'test'\n",
    "with open(datafile) as f:\n",
    "    data = f.read().strip()\n",
    "m_blks = expand(data)\n",
    "f_blks = [i for i,c in enumerate(m_blks) if c == '.']\n",
    "iter = 0\n",
    "ptr = 0 # the pointer is faster than shrinking the list\n",
    "while True:\n",
    "    iter += 1\n",
    "    if f_blks[ptr] > len(m_blks) - 1: break\n",
    "    lb = m_blks.pop()\n",
    "    if lb != '.': \n",
    "        m_blks[f_blks[ptr]] = lb\n",
    "        ptr += 1\n",
    "        \n",
    "cs = checksum(m_blks)\n",
    "print(f'Part 1 Checksum: {cs}')\n",
    "\n",
    "# 6262891638328"
   ]
  },
  {
   "cell_type": "code",
   "execution_count": null,
   "metadata": {},
   "outputs": [
    {
     "name": "stdout",
     "output_type": "stream",
     "text": [
      "Part 1 Checksum: 6262891638328\n"
     ]
    }
   ],
   "source": [
    "datafile = 'day.txt'\n",
    "# datafile = 'test'\n",
    "with open(datafile) as f:\n",
    "    data = f.read().strip()\n",
    "m_blks = expand(data)\n",
    "f_blks = [i for i,c in enumerate(m_blks) if c == '.']\n",
    "iter = 0\n",
    "while len(f_blks) > 0:\n",
    "    iter += 1\n",
    "    lb = m_blks.pop()\n",
    "    if lb == '.': \n",
    "        f_blks.pop() # no pointer, but slower\n",
    "    else:\n",
    "        m_blks[f_blks.pop(0)] = lb\n",
    "        \n",
    "cs = checksum(m_blks)\n",
    "print(f'Part 1 Checksum: {cs}')"
   ]
  },
  {
   "cell_type": "code",
   "execution_count": null,
   "metadata": {},
   "outputs": [
    {
     "name": "stderr",
     "output_type": "stream",
     "text": [
      "ic| label: 9, "
     ]
    },
    {
     "name": "stderr",
     "output_type": "stream",
     "text": [
      "idx: 40, b_size: 2\n",
      "ic| hole: 0, f_blks[hole]: (2, 3)\n",
      "ic| label: 8, idx: 36, b_size: 4\n",
      "ic| label: 7, idx: 32, b_size: 3\n",
      "ic| hole: 1, f_blks[hole]: (8, 3)\n",
      "ic| label: 6, idx: 27, b_size: 4\n",
      "ic| label: 5, idx: 22, b_size: 4\n",
      "ic| label: 4, idx: 19, b_size: 2\n",
      "ic| hole: 2, f_blks[hole]: (12, 3)\n",
      "ic| label: 3, idx: 15, b_size: 3\n",
      "ic| label: 2, idx: 11, b_size: 1\n",
      "ic| hole: 0, f_blks[hole]: (4, 1)\n",
      "ic| label: 1, idx: 5, b_size: 3\n",
      "ic| label: 0, idx: 0, b_size: 2\n"
     ]
    },
    {
     "name": "stdout",
     "output_type": "stream",
     "text": [
      "mem: [0, 0, 9, 9, 2, 1, 1, 1, 7, 7, 7, '.', 4, 4, '.', 3, 3, 3, '.', '.', '.', '.', 5, 5, 5, 5, '.', 6, 6, 6, 6, '.', '.', '.', '.', '.', 8, 8, 8, 8, '.', '.']\n",
      "f_blks: [(5, 0), (11, 0), (14, 1), (18, 1), (21, 1), (26, 1), (31, 1), (35, 1), (40, 0)]\n",
      "Part 2 Checksum: 2858\n"
     ]
    }
   ],
   "source": [
    "from itertools import accumulate\n",
    "from icecream import ic\n",
    "datafile = 'day.txt'\n",
    "# datafile = 'test'\n",
    "\n",
    "def find_hole(b_size, idx, free_space):\n",
    "    for i, (f_idx, f_size) in enumerate(free_space):\n",
    "        # ic(i,f_idx,f_size)\n",
    "        if f_size >= b_size and f_idx <= idx: \n",
    "            return i\n",
    "    return -1\n",
    "\n",
    "with open(datafile) as f:\n",
    "    data = [int(i) for i in f.read().strip()]\n",
    "\n",
    "mem = expand(data)\n",
    "blk_idxes = [0] + list(accumulate(data))[:-1]\n",
    "m_blks = list(zip(blk_idxes[::2],data[::2]))\n",
    "f_blks = list(zip(blk_idxes[1::2],data[1::2]))\n",
    "# print(\"m_blks:\",m_blks)\n",
    "# print(\"f_blks:\",f_blks)\n",
    "\n",
    "# print(free_space)\n",
    "for i, (idx, b_size) in enumerate(m_blks[::-1]):\n",
    "    label = len(m_blks) - i -1\n",
    "    hole = find_hole(b_size, idx, f_blks)\n",
    "    # ic(label,idx,b_size)\n",
    "    if hole != -1:\n",
    "        # ic(hole,f_blks[hole])\n",
    "        for j in range(b_size):\n",
    "            mem[f_blks[hole][0]+j] = label\n",
    "            mem[idx+j] = '.'\n",
    "        f_blks[hole] = (f_blks[hole][0]+b_size, f_blks[hole][1]-b_size)\n",
    "    \n",
    "\n",
    "\n",
    "        \n",
    "#2333133121414131402 \n",
    "# print(\"mem:\",mem)\n",
    "# print(\"f_blks:\",f_blks)\n",
    "# print(\"blk_idxes:\", blk_idxes)\n",
    "# print(len(mem))\n",
    "cs = checksum(mem)\n",
    "print(f'Part 2 Checksum: {cs}')"
   ]
  }
 ],
 "metadata": {
  "kernelspec": {
   "display_name": ".venv",
   "language": "python",
   "name": "python3"
  },
  "language_info": {
   "codemirror_mode": {
    "name": "ipython",
    "version": 3
   },
   "file_extension": ".py",
   "mimetype": "text/x-python",
   "name": "python",
   "nbconvert_exporter": "python",
   "pygments_lexer": "ipython3",
   "version": "3.12.7"
  }
 },
 "nbformat": 4,
 "nbformat_minor": 2
}
