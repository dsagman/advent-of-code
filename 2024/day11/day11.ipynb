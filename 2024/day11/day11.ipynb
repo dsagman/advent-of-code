{
 "cells": [
  {
   "cell_type": "markdown",
   "metadata": {},
   "source": [
    "\n",
    "- If the stone is engraved with the number 0, it is replaced by a stone engraved with the number 1.\n",
    "\n",
    "- If the stone is engraved with a number that has an even number of digits, it is replaced by two stones. The left half of the digits are engraved on the new left stone, and the right half of the digits are engraved on the new right stone. (The new numbers don't keep extra leading zeroes: 1000 would become stones 10 and 0.)\n",
    "\n",
    "- If none of the other rules apply, the stone is replaced by a new stone; the old stone's number multiplied by 2024 is engraved on the new stone.\n"
   ]
  },
  {
   "cell_type": "code",
   "execution_count": 62,
   "metadata": {},
   "outputs": [],
   "source": [
    "def blink(xs):\n",
    "    new_xs = []\n",
    "    for x in xs:\n",
    "        if int(x) == 0:\n",
    "            new_xs.append('1')\n",
    "            continue\n",
    "        if len(x) % 2 == 0:\n",
    "            new_xs.append(x[:len(x)//2])\n",
    "            new_xs.append(str(int(x[len(x)//2:])))\n",
    "            continue\n",
    "        new_xs.append(str(int(x)*2024))\n",
    "    \n",
    "    return new_xs"
   ]
  },
  {
   "cell_type": "code",
   "execution_count": 63,
   "metadata": {},
   "outputs": [
    {
     "name": "stdout",
     "output_type": "stream",
     "text": [
      "['4022724', '951333', '0', '21633', '5857', '97', '702', '6']\n",
      "211306\n"
     ]
    }
   ],
   "source": [
    "# Part 1\n",
    "datafile = \"test\"\n",
    "datafile = \"day.txt\"\n",
    "with open(datafile) as f:\n",
    "    data = f.read().split()\n",
    "print(data)\n",
    "\n",
    "for i in range(25):\n",
    "    data = blink(data)\n",
    "\n",
    "print(len(data))\n"
   ]
  },
  {
   "cell_type": "code",
   "execution_count": 66,
   "metadata": {},
   "outputs": [
    {
     "name": "stdout",
     "output_type": "stream",
     "text": [
      "['4022724', '951333', '0', '21633', '5857', '97', '702', '6']\n",
      "250783680217283\n"
     ]
    }
   ],
   "source": [
    "# Part 2\n",
    "from collections import Counter\n",
    "\n",
    "def blink1(x):\n",
    "    if int(x) == 0: return ['1']\n",
    "    if len(x) % 2 == 0: return [x[:len(x)//2], str(int(x[len(x)//2:]))]\n",
    "    return [str(int(x)*2024)]\n",
    "    \n",
    "# datafile = \"test\"\n",
    "datafile = \"day.txt\"\n",
    "with open(datafile) as f:\n",
    "    stones = f.read().split()\n",
    "print(stones)\n",
    "\n",
    "curCounter = Counter(stones)\n",
    "for i in range(75):\n",
    "    newCounter = Counter()\n",
    "    for stone, count in curCounter.items():\n",
    "        for s in blink1(stone):\n",
    "            newCounter[s] += count\n",
    "    curCounter = newCounter\n",
    "    \n",
    "total = sum([v for _, v in curCounter.items()])\n",
    "print(total)\n",
    "# 250783680217283\n",
    "\n"
   ]
  }
 ],
 "metadata": {
  "kernelspec": {
   "display_name": ".venv",
   "language": "python",
   "name": "python3"
  },
  "language_info": {
   "codemirror_mode": {
    "name": "ipython",
    "version": 3
   },
   "file_extension": ".py",
   "mimetype": "text/x-python",
   "name": "python",
   "nbconvert_exporter": "python",
   "pygments_lexer": "ipython3",
   "version": "3.12.7"
  }
 },
 "nbformat": 4,
 "nbformat_minor": 2
}
