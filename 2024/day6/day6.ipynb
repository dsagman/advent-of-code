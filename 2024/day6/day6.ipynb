{
 "cells": [
  {
   "cell_type": "code",
   "execution_count": null,
   "metadata": {},
   "outputs": [
    {
     "name": "stdout",
     "output_type": "stream",
     "text": [
      "....#.....\n",
      ".........#\n",
      "..........\n",
      "..#.......\n",
      ".......#..\n",
      "..........\n",
      ".#..^.....\n",
      "........#.\n",
      "#.........\n",
      "......#...\n",
      "(6, 4) ^\n"
     ]
    }
   ],
   "source": [
    "from collections import defaultdict\n",
    "datafile = \"test\"\n",
    "datafile = \"day.txt\"\n",
    "\n",
    "def print_grid(grid, max_x, max_y):\n",
    "    for i in range(max_y):\n",
    "        for j in range(max_x):\n",
    "            print(grid[(i, j)], end=\"\")\n",
    "        print()\n",
    "\n",
    "def reset_grid(data, max_x, max_y):\n",
    "    for i in range(max_y):\n",
    "        for j in range(max_x):\n",
    "            grid[(i, j)] = data[i][j]\n",
    "            if data[i][j] == \"^\":\n",
    "                start = (i, j)\n",
    "    return (grid, start)\n",
    "\n",
    "with open(datafile) as f:\n",
    "    data = f.readlines()\n",
    "max_x = len(data[0].strip())\n",
    "max_y = len(data)\n",
    "grid = defaultdict()\n",
    "start = (0, 0)\n",
    "direction = '^'\n",
    "grid, start = reset_grid(data, max_x, max_y)\n",
    "print_grid(grid, max_x, max_y)\n",
    "print(start, direction)"
   ]
  },
  {
   "cell_type": "code",
   "execution_count": 30,
   "metadata": {},
   "outputs": [],
   "source": [
    "def move(pos, direction):\n",
    "    if direction == \"^\":\n",
    "        return (pos[0] - 1, pos[1])\n",
    "    if direction == \"v\":\n",
    "        return (pos[0] + 1, pos[1])\n",
    "    if direction == \"<\":\n",
    "        return (pos[0], pos[1] - 1)\n",
    "    if direction == \">\":\n",
    "        return (pos[0], pos[1] + 1)\n",
    "\n",
    "def check_edge(pos, max_x, max_y):\n",
    "    if pos[0] < 0 or pos[0] >= max_y:\n",
    "        return True\n",
    "    if pos[1] < 0 or pos[1] >= max_x:\n",
    "        return True\n",
    "    return False\n",
    "\n",
    "def check_collision(pos, grid):\n",
    "    if grid[pos] == \"#\":\n",
    "        return True\n",
    "    return False\n",
    "\n",
    "def rotate_right(direction):\n",
    "    if direction == \"^\":\n",
    "        return \">\"\n",
    "    if direction == \">\":\n",
    "        return \"v\"\n",
    "    if direction == \"v\":\n",
    "        return \"<\"\n",
    "    if direction == \"<\":\n",
    "        return \"^\"\n",
    "    \n",
    "def count_spots(grid):\n",
    "    count = 0\n",
    "    for spot in grid.values():\n",
    "        if spot in [\"<\", \">\", \"^\", \"v\"]:\n",
    "            count += 1\n",
    "    return count"
   ]
  },
  {
   "cell_type": "code",
   "execution_count": 35,
   "metadata": {},
   "outputs": [
    {
     "name": "stdout",
     "output_type": "stream",
     "text": [
      "41\n",
      "....#.....\n",
      "....^>>>>#\n",
      "....^...v.\n",
      "..#.^...v.\n",
      "..^>>>>#v.\n",
      "..^.^.v.v.\n",
      ".#<<<<v<v.\n",
      ".^>>>>>>#.\n",
      "#<<<<<vv..\n",
      "......#v..\n"
     ]
    }
   ],
   "source": [
    "grid, start = reset_grid(data, max_x, max_y)\n",
    "direction = \"^\"\n",
    "current_pos = start\n",
    "\n",
    "while True:\n",
    "    next_pos = move(current_pos, direction)\n",
    "    if check_edge(next_pos, max_x, max_y):\n",
    "        break\n",
    "    if check_collision(next_pos, grid):\n",
    "        direction = rotate_right(direction)\n",
    "        continue\n",
    "    current_pos = next_pos\n",
    "    grid[current_pos] = direction\n",
    "\n",
    "print(count_spots(grid))\n",
    "print_grid(grid, max_x, max_y)"
   ]
  }
 ],
 "metadata": {
  "kernelspec": {
   "display_name": ".venv",
   "language": "python",
   "name": "python3"
  },
  "language_info": {
   "codemirror_mode": {
    "name": "ipython",
    "version": 3
   },
   "file_extension": ".py",
   "mimetype": "text/x-python",
   "name": "python",
   "nbconvert_exporter": "python",
   "pygments_lexer": "ipython3",
   "version": "3.12.7"
  }
 },
 "nbformat": 4,
 "nbformat_minor": 2
}
