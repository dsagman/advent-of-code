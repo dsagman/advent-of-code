{
 "cells": [
  {
   "cell_type": "code",
   "execution_count": 73,
   "metadata": {},
   "outputs": [
    {
     "name": "stdout",
     "output_type": "stream",
     "text": [
      "....#.....\n",
      ".........#\n",
      "..........\n",
      "..#.......\n",
      ".......#..\n",
      "..........\n",
      ".#..^.....\n",
      "........#.\n",
      "#.........\n",
      "......#...\n",
      "(6, 4) ^\n"
     ]
    }
   ],
   "source": [
    "from collections import defaultdict\n",
    "import copy\n",
    "\n",
    "datafile = \"test\"\n",
    "# datafile = \"day.txt\"\n",
    "\n",
    "def print_grid(grid):\n",
    "    [print(x) for x in grid]\n",
    "\n",
    "def reset_grid(data, max_x, max_y):\n",
    "    for i in range(max_y):\n",
    "        for j in range(max_x):\n",
    "            if data[i][j] == \"^\": start = (i,j)\n",
    "    return (copy.deepcopy(data), start)\n",
    "\n",
    "with open(datafile) as f:\n",
    "    data = f.readlines()\n",
    "data = [d.strip() for d in data]\n",
    "max_x, max_y = len(data[0]), len(data)\n",
    "direction = '^'\n",
    "grid, start = reset_grid(data, max_x, max_y)\n",
    "\n",
    "print_grid(grid)\n",
    "print(start, direction)"
   ]
  },
  {
   "cell_type": "code",
   "execution_count": 74,
   "metadata": {},
   "outputs": [],
   "source": [
    "def move(pos, direction):\n",
    "    if direction == \"^\": return (pos[0] - 1, pos[1])\n",
    "    if direction == \"v\": return (pos[0] + 1, pos[1])\n",
    "    if direction == \"<\": return (pos[0], pos[1] - 1)\n",
    "    if direction == \">\": return (pos[0], pos[1] + 1)\n",
    "\n",
    "def check_edge(pos, max_x, max_y):\n",
    "    if pos[0] < 0 or pos[0] >= max_y or pos[1] < 0 or pos[1] >= max_x: return True\n",
    "    return False\n",
    "\n",
    "def rotate_right(direction):\n",
    "    if direction == \"^\": return \">\"\n",
    "    if direction == \">\": return \"v\"\n",
    "    if direction == \"v\": return \"<\"\n",
    "    if direction == \"<\": return \"^\"\n",
    "    \n",
    "def put_grid(grid, pos, char):\n",
    "    grid[pos[0]] = grid[pos[0]][:pos[1]] + char + grid[pos[0]][pos[1]+1:]\n",
    "    return grid"
   ]
  },
  {
   "cell_type": "code",
   "execution_count": 75,
   "metadata": {},
   "outputs": [
    {
     "name": "stdout",
     "output_type": "stream",
     "text": [
      "40\n",
      "....#.....\n",
      "....^>>>>#\n",
      "....^...v.\n",
      "..#.^...v.\n",
      "..^>>>>#v.\n",
      "..^.^.v.v.\n",
      ".#<<S<v<v.\n",
      ".^>>>>>>#.\n",
      "#<<<<<vv..\n",
      "......#v..\n"
     ]
    }
   ],
   "source": [
    "# part 1\n",
    "grid, start = reset_grid(data, max_x, max_y)\n",
    "cur_pos, direction = start, \"^\"\n",
    "\n",
    "while True:\n",
    "    next_pos = move(cur_pos, direction)\n",
    "    if check_edge(next_pos, max_x, max_y):\n",
    "        break\n",
    "    if grid[next_pos[0]][next_pos[1]] == \"#\":\n",
    "        direction = rotate_right(direction)\n",
    "        continue\n",
    "    cur_pos = next_pos\n",
    "    grid = put_grid(grid, cur_pos, direction)\n",
    "\n",
    "put_grid(grid, start, \"S\")\n",
    "count = sum([x in \"<>^v\" for row in grid for x in row])\n",
    "print(count)\n",
    "print_grid(grid)"
   ]
  },
  {
   "cell_type": "code",
   "execution_count": 78,
   "metadata": {},
   "outputs": [
    {
     "name": "stdout",
     "output_type": "stream",
     "text": [
      "Start at: (6, 4)\n",
      "Cycle 1 at: (6, 4)\n",
      "Cycle 2 at: (7, 6)\n",
      "Cycle 3 at: (8, 7)\n",
      "....#.....\n",
      "....^>>>>#\n",
      "....^...v.\n",
      "..#.^...v.\n",
      "..^>>>>#v.\n",
      "..^.^.v.v.\n",
      ".#<<S<v<v.\n",
      ".^>>>>O>#.\n",
      "#<<<<<vO..\n",
      "......#v..\n"
     ]
    }
   ],
   "source": [
    "# part 2\n",
    "grid, start = reset_grid(data, max_x, max_y)\n",
    "cur_pos, direction = start, \"^\"\n",
    "print(f\"Start at: {start}\") \n",
    "\n",
    "def look_for_cycle(grid, pos, direction):\n",
    "    next_pos = move(pos, direction)\n",
    "    if direction in \"<\":\n",
    "        if grid[pos[0]][pos[1]-1] == \"^\" \\\n",
    "           and grid[next_pos[0]][next_pos[1]] != \"#\":\n",
    "            return True\n",
    "    if direction in \"v\":\n",
    "        if grid[pos[0]-1][pos[1]] == \"<\" \\\n",
    "           and grid[next_pos[0]][next_pos[1]] != \"#\":\n",
    "            return True\n",
    "    if direction in \">\":\n",
    "        if grid[pos[0]][pos[1]+1] == \"v\" \\\n",
    "           and grid[next_pos[0]][next_pos[1]] != \"#\":\n",
    "            return True\n",
    "    if direction in \"^\":\n",
    "        if grid[pos[0]+1][pos[1]] == \">\" \\\n",
    "           and grid[next_pos[0]][next_pos[1]] != \"#\":\n",
    "            return True\n",
    "  \n",
    "cycles = []      \n",
    "while True:\n",
    "    next_pos = move(cur_pos, direction)\n",
    "    if check_edge(next_pos, max_x, max_y):\n",
    "        break\n",
    "    if grid[next_pos[0]][next_pos[1]] == \"#\":\n",
    "        direction = rotate_right(direction)\n",
    "        continue\n",
    "    if look_for_cycle(grid, cur_pos, direction):\n",
    "        cycles.append(move(cur_pos, direction))\n",
    "    cur_pos = next_pos\n",
    "    grid = put_grid(grid, cur_pos, direction)\n",
    "\n",
    "for i,c in enumerate(cycles):\n",
    "    print(f\"Cycle {i+1} at: {c}\")\n",
    "    grid = put_grid(grid, c, \"O\")\n",
    "put_grid(grid, start, \"S\")\n",
    "print_grid(grid)"
   ]
  }
 ],
 "metadata": {
  "kernelspec": {
   "display_name": ".venv",
   "language": "python",
   "name": "python3"
  },
  "language_info": {
   "codemirror_mode": {
    "name": "ipython",
    "version": 3
   },
   "file_extension": ".py",
   "mimetype": "text/x-python",
   "name": "python",
   "nbconvert_exporter": "python",
   "pygments_lexer": "ipython3",
   "version": "3.12.7"
  }
 },
 "nbformat": 4,
 "nbformat_minor": 2
}
